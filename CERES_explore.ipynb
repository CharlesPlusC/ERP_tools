{
 "cells": [
  {
   "cell_type": "code",
   "execution_count": 16,
   "metadata": {},
   "outputs": [],
   "source": [
    "import os\n",
    "import netCDF4 as nc\n",
    "import numpy as np\n",
    "import matplotlib.pyplot as plt\n",
    "import cartopy.crs as ccrs\n",
    "import imageio"
   ]
  },
  {
   "cell_type": "code",
   "execution_count": 19,
   "metadata": {},
   "outputs": [
    {
     "name": "stderr",
     "output_type": "stream",
     "text": [
      "/var/folders/nh/9y501_nj2x56h2t3ch9_05f40000gn/T/ipykernel_48755/3009918560.py:53: UserWarning: WARNING: valid_min not used since it\n",
      "cannot be safely cast to variable data type\n",
      "  radiation_variable = data.variables[variable_name][:]\n",
      "/var/folders/nh/9y501_nj2x56h2t3ch9_05f40000gn/T/ipykernel_48755/3009918560.py:53: UserWarning: WARNING: valid_max not used since it\n",
      "cannot be safely cast to variable data type\n",
      "  radiation_variable = data.variables[variable_name][:]\n",
      "/var/folders/nh/9y501_nj2x56h2t3ch9_05f40000gn/T/ipykernel_48755/3009918560.py:40: DeprecationWarning: Starting with ImageIO v3 the behavior of this function will switch to that of iio.v3.imread. To keep the current behavior (and make this warning disappear) use `import imageio.v2 as imageio` or call `imageio.v2.imread` directly.\n",
      "  images.append(imageio.imread(file_path))\n"
     ]
    },
    {
     "name": "stdout",
     "output_type": "stream",
     "text": [
      "Animated GIF for toa_sw_all_mon saved as CERES_plots/toa_sw_all_mon_Animation.gif\n"
     ]
    },
    {
     "name": "stderr",
     "output_type": "stream",
     "text": [
      "/var/folders/nh/9y501_nj2x56h2t3ch9_05f40000gn/T/ipykernel_48755/3009918560.py:53: UserWarning: WARNING: valid_min not used since it\n",
      "cannot be safely cast to variable data type\n",
      "  radiation_variable = data.variables[variable_name][:]\n",
      "/var/folders/nh/9y501_nj2x56h2t3ch9_05f40000gn/T/ipykernel_48755/3009918560.py:53: UserWarning: WARNING: valid_max not used since it\n",
      "cannot be safely cast to variable data type\n",
      "  radiation_variable = data.variables[variable_name][:]\n",
      "/var/folders/nh/9y501_nj2x56h2t3ch9_05f40000gn/T/ipykernel_48755/3009918560.py:40: DeprecationWarning: Starting with ImageIO v3 the behavior of this function will switch to that of iio.v3.imread. To keep the current behavior (and make this warning disappear) use `import imageio.v2 as imageio` or call `imageio.v2.imread` directly.\n",
      "  images.append(imageio.imread(file_path))\n"
     ]
    },
    {
     "name": "stdout",
     "output_type": "stream",
     "text": [
      "Animated GIF for toa_lw_all_mon saved as CERES_plots/toa_lw_all_mon_Animation.gif\n"
     ]
    },
    {
     "name": "stderr",
     "output_type": "stream",
     "text": [
      "/var/folders/nh/9y501_nj2x56h2t3ch9_05f40000gn/T/ipykernel_48755/3009918560.py:53: UserWarning: WARNING: valid_min not used since it\n",
      "cannot be safely cast to variable data type\n",
      "  radiation_variable = data.variables[variable_name][:]\n",
      "/var/folders/nh/9y501_nj2x56h2t3ch9_05f40000gn/T/ipykernel_48755/3009918560.py:53: UserWarning: WARNING: valid_max not used since it\n",
      "cannot be safely cast to variable data type\n",
      "  radiation_variable = data.variables[variable_name][:]\n",
      "/var/folders/nh/9y501_nj2x56h2t3ch9_05f40000gn/T/ipykernel_48755/3009918560.py:40: DeprecationWarning: Starting with ImageIO v3 the behavior of this function will switch to that of iio.v3.imread. To keep the current behavior (and make this warning disappear) use `import imageio.v2 as imageio` or call `imageio.v2.imread` directly.\n",
      "  images.append(imageio.imread(file_path))\n"
     ]
    }
   ],
   "source": [
    "# Function to plot each month's data for a given radiation variable\n",
    "def plot_monthly_radiation(variable_name, time_index, radiation_data, lat, lon, output_folder):\n",
    "    lon2d, lat2d = np.meshgrid(lon, lat)\n",
    "    fig = plt.figure(figsize=(10, 7))\n",
    "    ax = plt.axes(projection=ccrs.PlateCarree())\n",
    "    ax.coastlines()\n",
    "    ax.set_global()\n",
    "\n",
    "    # Determine color scale limits based on the variable being plotted\n",
    "    if \"net\" in variable_name:\n",
    "        vmin, vmax = -450, 450  # For net radiation, we use a range from -450 to 450\n",
    "        cmap = 'magma'\n",
    "    else:\n",
    "        vmin, vmax = 0, 450  # For shortwave and longwave, we use a range from 0 to 450\n",
    "        cmap = 'magma'\n",
    "\n",
    "    # Create the color mesh with the determined scale and colormap\n",
    "    radiation_plot = ax.pcolormesh(lon2d, lat2d, radiation_data[time_index, :, :], cmap=cmap, vmin=vmin, vmax=vmax, transform=ccrs.PlateCarree())\n",
    "    cbar = plt.colorbar(radiation_plot, orientation='vertical', shrink=0.7)\n",
    "    cbar.set_label('Radiation (W/m^2)')\n",
    "\n",
    "    ax.gridlines(draw_labels=True)\n",
    "    plt.title(f'{variable_name} {time_index//12 + 2000}-{time_index%12 + 1:02d}')\n",
    "\n",
    "    # Create the output directory if it doesn't exist\n",
    "    os.makedirs(output_folder, exist_ok=True)\n",
    "\n",
    "    # Save the figure\n",
    "    plt.savefig(os.path.join(output_folder, f'{variable_name}_{time_index//12 + 2000}_{time_index%12 + 1:02d}.png'), dpi=300)\n",
    "    \n",
    "    # Close the plot to save memory\n",
    "    plt.close(fig)\n",
    "\n",
    "# Function to create an animation from plots\n",
    "def create_animation(variable_name, output_folder, image_folder, frame_duration):\n",
    "    images = []\n",
    "    for file_name in sorted(os.listdir(image_folder)):\n",
    "        if file_name.startswith(variable_name) and file_name.endswith('.png'):\n",
    "            file_path = os.path.join(image_folder, file_name)\n",
    "            images.append(imageio.imread(file_path))\n",
    "    output_gif_path = os.path.join(output_folder, f'{variable_name}_Animation.gif')\n",
    "    imageio.mimsave(output_gif_path, images, duration=frame_duration)\n",
    "    print(f\"Animated GIF for {variable_name} saved as {output_gif_path}\")\n",
    "\n",
    "# Main function to process the data and create animations\n",
    "def process_and_create_animations(variable_names, dataset_path, output_folder, frame_duration=0.5):\n",
    "    data = nc.Dataset(dataset_path)\n",
    "    lat = data.variables['lat'][:]\n",
    "    lon = data.variables['lon'][:]\n",
    "    os.makedirs(output_folder, exist_ok=True)\n",
    "    \n",
    "    for variable_name in variable_names:\n",
    "        radiation_variable = data.variables[variable_name][:]\n",
    "        for time_index in range(radiation_variable.shape[0]):\n",
    "            plot_monthly_radiation(variable_name, time_index, radiation_variable, lat, lon, output_folder)\n",
    "        create_animation(variable_name, output_folder, output_folder, frame_duration)\n",
    "\n",
    "    data.close()\n",
    "\n",
    "# Define variables and dataset path\n",
    "variable_names = ['toa_sw_all_mon', 'toa_lw_all_mon', 'toa_net_all_mon']\n",
    "dataset_path = 'data/CERES_EBAF-TOA_Ed4.2_Subset_200003-202308.nc'\n",
    "output_folder = 'CERES_plots'\n",
    "\n",
    "# Call the main function\n",
    "#This takes about 10 minutes to run for the entire dataset\n",
    "process_and_create_animations(variable_names, dataset_path, output_folder, frame_duration=0.5)"
   ]
  },
  {
   "cell_type": "code",
   "execution_count": null,
   "metadata": {},
   "outputs": [],
   "source": [
    "\n"
   ]
  }
 ],
 "metadata": {
  "language_info": {
   "name": "python"
  }
 },
 "nbformat": 4,
 "nbformat_minor": 2
}
