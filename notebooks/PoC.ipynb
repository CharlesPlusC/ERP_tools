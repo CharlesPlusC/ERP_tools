{
 "cells": [
  {
   "cell_type": "code",
   "execution_count": 1,
   "metadata": {},
   "outputs": [],
   "source": [
    "#move back to the root directory\n",
    "import os\n",
    "os.chdir('..')"
   ]
  },
  {
   "cell_type": "code",
   "execution_count": 2,
   "metadata": {},
   "outputs": [
    {
     "name": "stdout",
     "output_type": "stream",
     "text": [
      "/Users/charlesc/Documents/GitHub/ERP_tools\n"
     ]
    }
   ],
   "source": [
    "!pwd"
   ]
  },
  {
   "cell_type": "code",
   "execution_count": null,
   "metadata": {},
   "outputs": [],
   "source": [
    "import orekit\n",
    "from orekit.pyhelpers import setup_orekit_curdir\n",
    "orekit.pyhelpers.download_orekit_data_curdir()\n",
    "vm = orekit.initVM()\n",
    "setup_orekit_curdir()"
   ]
  },
  {
   "cell_type": "code",
   "execution_count": 53,
   "metadata": {},
   "outputs": [],
   "source": [
    "from orekit.pyhelpers import datetime_to_absolutedate\n",
    "from org.hipparchus.geometry.euclidean.threed import Vector3D\n",
    "from org.hipparchus.linear import RealMatrix\n",
    "from org.orekit.propagation import StateCovariance\n",
    "from org.orekit.frames import FramesFactory\n",
    "from org.orekit.orbits import PositionAngleType, CartesianOrbit, KeplerianOrbit, CircularOrbit, EquinoctialOrbit, OrbitType\n",
    "from org.orekit.ssa.metrics import ProbabilityOfCollision \n",
    "from org.orekit.ssa.collision.shorttermencounter.probability.twod import Patera2005\n",
    "from org.orekit.utils import PVCoordinates\n",
    "from org.orekit.utils import Constants\n",
    "import datetime\n",
    "import random\n",
    "from org.hipparchus.linear import MatrixUtils\n",
    "from org.orekit.utils import IERSConventions, PVCoordinates"
   ]
  },
  {
   "cell_type": "code",
   "execution_count": 66,
   "metadata": {},
   "outputs": [],
   "source": [
    "from org.hipparchus.linear import MatrixUtils\n",
    "\n",
    "# Define the covariance matrix values as per your specifications\n",
    "covariance_values = [\n",
    "    [127.5401258877026, -216.5469301895778, 23.41184551274494, 0.2482739312599897, -0.1375882369099475, 0.008141795305978281],\n",
    "    [-216.5469301895778, 9738.762752029239, -5.346171445289681, -10.55496325674788, 0.1222189661319367, -0.05578838789977865],\n",
    "    [23.41184551274494, -5.346171445289681, 24.60870138594973, 0.005950144116086071, -0.02576925085939057, -0.0003344474012710994],\n",
    "    [0.2482739312599897, -10.55496325674788, 0.005950144116086071, 0.01147849769311488, -0.0001458466399925159, 0.00005801069817622688],\n",
    "    [-0.1375882369099475, 0.1222189661319367, -0.02576925085939057, -0.0001458466399925159, 0.0001499094267380701, -0.000008757429553163563],\n",
    "    [0.008141795305978281, -0.05578838789977865, -0.0003344474012710994, 0.00005801069817622688, -0.000008757429553163563, 0.00009287778622823746]\n",
    "]\n",
    "\n",
    "# Convert the Python list to a Java double[][]\n",
    "jarray = MatrixUtils.createRealMatrix(len(covariance_values), len(covariance_values[0]))\n",
    "for i in range(len(covariance_values)):\n",
    "    for j in range(len(covariance_values[i])):\n",
    "        jarray.setEntry(i, j, covariance_values[i][j])"
   ]
  },
  {
   "cell_type": "code",
   "execution_count": 71,
   "metadata": {},
   "outputs": [],
   "source": [
    "# Use MatrixUtils to create a RealMatrix object from the 2D array\n",
    "cov_mat1 = jarray\n",
    "cov_mat2  = jarray"
   ]
  },
  {
   "cell_type": "code",
   "execution_count": 72,
   "metadata": {},
   "outputs": [],
   "source": [
    "def symmetrize(matrix):\n",
    "    nrows, ncols = matrix.getRowDimension(), matrix.getColumnDimension()\n",
    "    for i in range(nrows):\n",
    "        for j in range(i+1, ncols):\n",
    "            value = (matrix.getEntry(i, j) + matrix.getEntry(j, i)) / 2.0\n",
    "            matrix.setEntry(i, j, value)\n",
    "            matrix.setEntry(j, i, value)\n",
    "\n",
    "# Apply symmetrization to your covariance matrices\n",
    "symmetrize(cov_mat1)\n",
    "symmetrize(cov_mat2)"
   ]
  },
  {
   "cell_type": "code",
   "execution_count": 77,
   "metadata": {},
   "outputs": [
    {
     "name": "stdout",
     "output_type": "stream",
     "text": [
      "Probability of collision: 0.0005189099581768296\n"
     ]
    }
   ],
   "source": [
    "def generate_symmetric_covariance_matrix(size):\n",
    "    # Create an empty matrix of the desired size\n",
    "    matrix = MatrixUtils.createRealMatrix(size, size)\n",
    "    \n",
    "    # Fill the upper triangle and diagonal with random values\n",
    "    for i in range(size):\n",
    "        for j in range(i, size):\n",
    "            value = random.random()\n",
    "            matrix.setEntry(i, j, value)\n",
    "            matrix.setEntry(j, i, value)  # Mirror to make it symmetric\n",
    "    \n",
    "    return matrix\n",
    "\n",
    "state1 = [700001.0, 0.0, 0.0, 0.0, 7000.24, 0.0]\n",
    "state2 = [700000.0, 0.0, 0.0, 0.0, 7000.1, 0.0]\n",
    "tca = datetime.datetime(2020, 1, 1, 0, 0, 0)\n",
    "\n",
    "orbit1 = CartesianOrbit(PVCoordinates(Vector3D(float(state1[0]), float(state1[1]), float(state1[2])),\n",
    "                        Vector3D(float(state1[3]), float(state1[4]), float(state1[5]))),\n",
    "                        FramesFactory.getEME2000(),\n",
    "                        datetime_to_absolutedate(tca),\n",
    "                        Constants.WGS84_EARTH_MU)\n",
    "\n",
    "orbit2 = CartesianOrbit(PVCoordinates(Vector3D(float(state2[0]), float(state2[1]), float(state2[2])),\n",
    "                        Vector3D(float(state2[3]), float(state2[4]), float(state2[5]))),\n",
    "                        FramesFactory.getEME2000(),\n",
    "                        datetime_to_absolutedate(tca),\n",
    "                        Constants.WGS84_EARTH_MU)\n",
    "\n",
    "radius1 = 1.0\n",
    "radius2 = 1.0\n",
    "\n",
    "covariance1 = StateCovariance(cov_mat1, datetime_to_absolutedate(tca), FramesFactory.getITRF(IERSConventions.IERS_2010, False), OrbitType.CARTESIAN, PositionAngleType.TRUE)\n",
    "covariance2 = StateCovariance(cov_mat2, datetime_to_absolutedate(tca), FramesFactory.getITRF(IERSConventions.IERS_2010, False), OrbitType.CARTESIAN, PositionAngleType.TRUE)\n",
    "\n",
    "# Patera2005.compute(Orbit primaryAtTCA, StateCovariance primaryCovariance, double primaryRadius, Orbit secondaryAtTCA, StateCovariance secondaryCovariance, double secondaryRadius)\n",
    "patera2005 = Patera2005() \n",
    "poc_result = patera2005.compute(orbit1, covariance1, orbit2, covariance2, radius2, 1e-10)\n",
    "print(f\"Probability of collision: {poc_result.getValue()}\")"
   ]
  },
  {
   "cell_type": "code",
   "execution_count": null,
   "metadata": {},
   "outputs": [],
   "source": [
    "#state covariance constructor takes in:\n",
    "#   a 6x6 matrix (RealMatrix)\n",
    "#   an epoch\n",
    "#   a local orbital frame\n",
    "\n",
    "# org.hipparchus.geometry.euclidean.threed.Rotation\trotationFromInertial(AbsoluteDate date, PVCoordinates pv)\n",
    "# Get the rotation from inertial frame to local orbital frame."
   ]
  }
 ],
 "metadata": {
  "kernelspec": {
   "display_name": "erp_tools_env",
   "language": "python",
   "name": "python3"
  },
  "language_info": {
   "codemirror_mode": {
    "name": "ipython",
    "version": 3
   },
   "file_extension": ".py",
   "mimetype": "text/x-python",
   "name": "python",
   "nbconvert_exporter": "python",
   "pygments_lexer": "ipython3",
   "version": "3.11.6"
  }
 },
 "nbformat": 4,
 "nbformat_minor": 2
}
