{
 "cells": [
  {
   "cell_type": "code",
   "execution_count": 8,
   "metadata": {},
   "outputs": [],
   "source": [
    "#move back to the root directory\n",
    "import os\n",
    "os.chdir('..')"
   ]
  },
  {
   "cell_type": "code",
   "execution_count": 9,
   "metadata": {},
   "outputs": [
    {
     "name": "stdout",
     "output_type": "stream",
     "text": [
      "/Users/charlesc/Documents/GitHub/ERP_tools\n"
     ]
    }
   ],
   "source": [
    "!pwd"
   ]
  },
  {
   "cell_type": "code",
   "execution_count": 10,
   "metadata": {},
   "outputs": [
    {
     "name": "stdout",
     "output_type": "stream",
     "text": [
      "Downloading file from: https://gitlab.orekit.org/orekit/orekit-data/-/archive/master/orekit-data-master.zip\n"
     ]
    },
    {
     "name": "stderr",
     "output_type": "stream",
     "text": [
      "OpenJDK 64-Bit Server VM warning: Attempt to protect stack guard pages failed.\n",
      "OpenJDK 64-Bit Server VM warning: Attempt to deallocate stack guard pages failed.\n"
     ]
    }
   ],
   "source": [
    "import orekit\n",
    "from orekit.pyhelpers import setup_orekit_curdir\n",
    "orekit.pyhelpers.download_orekit_data_curdir()\n",
    "vm = orekit.initVM()\n",
    "setup_orekit_curdir()"
   ]
  },
  {
   "cell_type": "code",
   "execution_count": 11,
   "metadata": {},
   "outputs": [],
   "source": [
    "from orekit.pyhelpers import datetime_to_absolutedate\n",
    "from org.hipparchus.geometry.euclidean.threed import Vector3D\n",
    "from org.hipparchus.linear import RealMatrix\n",
    "from org.orekit.propagation import StateCovariance\n",
    "from org.orekit.frames import FramesFactory\n",
    "from org.orekit.orbits import PositionAngleType, CartesianOrbit, KeplerianOrbit, CircularOrbit, EquinoctialOrbit, OrbitType\n",
    "from org.orekit.ssa.metrics import ProbabilityOfCollision \n",
    "from org.orekit.ssa.collision.shorttermencounter.probability.twod import Patera2005\n",
    "from org.orekit.utils import PVCoordinates\n",
    "from org.orekit.utils import Constants\n",
    "import datetime\n",
    "import random\n",
    "from org.hipparchus.linear import MatrixUtils\n",
    "from org.orekit.utils import IERSConventions, PVCoordinates\n",
    "from org.hipparchus.linear import MatrixUtils\n"
   ]
  },
  {
   "cell_type": "code",
   "execution_count": 15,
   "metadata": {},
   "outputs": [],
   "source": [
    "\n",
    "# # Define the covariance matrix values as per your specifications\n",
    "# covariance_values1 = [\n",
    "#     [127.5401258877026, -216.5469301895778, 23.41184551274494, 0.2482739312599897, -0.1375882369099475, 0.008141795305978281],\n",
    "#     [-216.5469301895778, 9738.762752029239, -5.346171445289681, -10.55496325674788, 0.1222189661319367, -0.05578838789977865],\n",
    "#     [23.41184551274494, -5.346171445289681, 24.60870138594973, 0.005950144116086071, -0.02576925085939057, -0.0003344474012710994],\n",
    "#     [0.2482739312599897, -10.55496325674788, 0.005950144116086071, 0.01147849769311488, -0.0001458466399925159, 0.00005801069817622688],\n",
    "#     [-0.1375882369099475, 0.1222189661319367, -0.02576925085939057, -0.0001458466399925159, 0.0001499094267380701, -0.000008757429553163563],\n",
    "#     [0.008141795305978281, -0.05578838789977865, -0.0003344474012710994, 0.00005801069817622688, -0.000008757429553163563, 0.00009287778622823746]\n",
    "# ]\n",
    "\n",
    "# covariance_values2 = [\n",
    "#     [4.7440894789163000000000, -1.2583279067770000000000, -1.2583279067770000000000, 0.0000000000000000000000, 0.0000000000000000000000, 0.0000000000000000000000],\n",
    "#     [-1.2583279067770000000000,6.1279552605419000000000, 2.1279552605419000000000, 0.0000000000000000000000, 0.0000000000000000000000, 0.0000000000000000000000],\n",
    "#     [-1.2583279067770000000000, 2.1279552605419000000000, 6.1279552605419000000000, 0.0000000000000000000000, 0.0000000000000000000000, 0.0000000000000000000000],\n",
    "#     [0.0000000000000000000000, 0.0000000000000000000000, 0.0000000000000000000000, 0.0000010000000000000000, 0.0000000000000000000000, 0.0000000000000000000000],\n",
    "#     [0.0000000000000000000000, 0.0000000000000000000000, 0.0000000000000000000000, 0.0000000000000000000001, 0.0000010000000000000000, -0.0000000000000000000001],\n",
    "#     [0.0000000000000000000000, 0.0000000000000000000000, 0.0000000000000000000000, 0.0000000000000000000001, -0.0000000000000000000001, 0.0000010000000000000000]\n",
    "# ]\n",
    "\n",
    "covariance_values3 = [\n",
    "    [-5.826e-1, 2.538e-2, -2.476e-6, -1.628e-4, -1.782e-4, 1.605e-4],\n",
    "    [2.538e-2, 7.537e-1, -8.935e-2, -2.343e-4, -7.149e-4, 5.660e-4],\n",
    "    [-2.476e-6, -8.935e-2, 9.269e-1, 2.591e-4, 6.95e-4, -7.503e-4],\n",
    "    [-1.628e-4, -2.343e-4, 2.591e-4,2.591e-7, 4.042e-7, -3.707e-7],\n",
    "    [-1.782e-4, -7.149e-4, 6.95e-4, 4.042e-7, 1.198e-6, -9.648e-7],\n",
    "    [1.605e-4, 5.660e-4, -7.503e-4, -3.707e-7, -9.648e-7, 1.066e-6]]\n",
    "\n",
    "# covariance_values3 = [\n",
    "#     [1e-1, 1e-1 ,1e-1, 1e-1,1e-1, 1e-1],\n",
    "#     [1e-1, 1e-1 ,1e-1, 1e-1,1e-1, 1e-1],\n",
    "#     [1e-1, 1e-1 ,1e-1, 1e-1,1e-1, 1e-1],\n",
    "#     [1e-1, 1e-1 ,1e-1, 1e-1,1e-1, 1e-1],\n",
    "#     [1e-1, 1e-1 ,1e-1, 1e-1,1e-1, 1e-1],\n",
    "#     [1e-1, 1e-1 ,1e-1, 1e-1,1e-1, 1e-1],]\n",
    "\n",
    "# Convert the Python list to a Java double[][]\n",
    "jarray = MatrixUtils.createRealMatrix(len(covariance_values3), len(covariance_values3[0]))\n",
    "for i in range(len(covariance_values3)):\n",
    "    # print(f\"i: {i}\")\n",
    "    for j in range(len(covariance_values3[i])):\n",
    "        # print(f\"j: {j}\")\n",
    "        try:\n",
    "            # print(f'covariance_values3[i][j]: {covariance_values3[i][j]}')\n",
    "            jarray.setEntry(i, j, covariance_values3[i][j])\n",
    "        except:\n",
    "            # print(i, j, covariance_values3[i][j])\n",
    "            # print(f\"value: {covariance_values3[i][j]}\")\n",
    "            raise"
   ]
  },
  {
   "cell_type": "code",
   "execution_count": 13,
   "metadata": {},
   "outputs": [],
   "source": [
    "# Use MatrixUtils to create a RealMatrix object from the 2D array\n",
    "cov_mat1 = jarray\n",
    "cov_mat2  = jarray"
   ]
  },
  {
   "cell_type": "code",
   "execution_count": 14,
   "metadata": {},
   "outputs": [],
   "source": [
    "def symmetrize(matrix):\n",
    "    nrows, ncols = matrix.getRowDimension(), matrix.getColumnDimension()\n",
    "    for i in range(nrows):\n",
    "        for j in range(i+1, ncols):\n",
    "            value = (matrix.getEntry(i, j) + matrix.getEntry(j, i)) / 2.0\n",
    "            matrix.setEntry(i, j, value)\n",
    "            matrix.setEntry(j, i, value)\n",
    "\n",
    "# Apply symmetrization to your covariance matrices\n",
    "symmetrize(cov_mat1)\n",
    "symmetrize(cov_mat2)"
   ]
  },
  {
   "cell_type": "code",
   "execution_count": 15,
   "metadata": {},
   "outputs": [
    {
     "name": "stdout",
     "output_type": "stream",
     "text": [
      "Probability of collision: 0.1940657070465181\n"
     ]
    }
   ],
   "source": [
    "state1 = [700001.0, 0.0, 0.0, 0.0, 7000.24, 0.0]\n",
    "state2 = [700000.0, 0.0, 0.0, 0.0, 7000.1, 0.0]\n",
    "tca = datetime.datetime(2020, 1, 1, 0, 0, 0)\n",
    "\n",
    "orbit1 = CartesianOrbit(PVCoordinates(Vector3D(float(state1[0]), float(state1[1]), float(state1[2])),\n",
    "                        Vector3D(float(state1[3]), float(state1[4]), float(state1[5]))),\n",
    "                        FramesFactory.getEME2000(),\n",
    "                        datetime_to_absolutedate(tca),\n",
    "                        Constants.WGS84_EARTH_MU)\n",
    "\n",
    "orbit2 = CartesianOrbit(PVCoordinates(Vector3D(float(state2[0]), float(state2[1]), float(state2[2])),\n",
    "                        Vector3D(float(state2[3]), float(state2[4]), float(state2[5]))),\n",
    "                        FramesFactory.getEME2000(),\n",
    "                        datetime_to_absolutedate(tca),\n",
    "                        Constants.WGS84_EARTH_MU)\n",
    "\n",
    "radius1 = 1.0\n",
    "radius2 = 1.0\n",
    "\n",
    "covariance1 = StateCovariance(cov_mat1, datetime_to_absolutedate(tca), FramesFactory.getITRF(IERSConventions.IERS_2010, False), OrbitType.CARTESIAN, PositionAngleType.TRUE)\n",
    "covariance2 = StateCovariance(cov_mat2, datetime_to_absolutedate(tca), FramesFactory.getITRF(IERSConventions.IERS_2010, False), OrbitType.CARTESIAN, PositionAngleType.TRUE)\n",
    "\n",
    "# Patera2005.compute(Orbit primaryAtTCA, StateCovariance primaryCovariance, double primaryRadius, Orbit secondaryAtTCA, StateCovariance secondaryCovariance, double secondaryRadius)\n",
    "patera2005 = Patera2005() \n",
    "poc_result = patera2005.compute(orbit1, covariance1, orbit2, covariance2, radius2, 1e-10)\n",
    "print(f\"Probability of collision: {poc_result.getValue()}\")"
   ]
  },
  {
   "cell_type": "code",
   "execution_count": 4,
   "metadata": {},
   "outputs": [
    {
     "data": {
      "text/plain": [
       "array([ 94.7128924 ,   3.16369165, 283.01849216])"
      ]
     },
     "execution_count": 4,
     "metadata": {},
     "output_type": "execute_result"
    }
   ],
   "source": [
    "import numpy as np\n",
    "\n",
    "# Given covariance matrices\n",
    "optimized_state_cov = np.array([\n",
    "    [3.74078423e-01, -5.60918944e-04, 6.30755208e-03, -6.17948348e-05, 1.52990753e-06, -7.54205899e-05],\n",
    "    [-5.60918944e-04, 3.66849722e-01, 1.38674344e-03, 1.36432560e-06, -3.08607065e-05, -5.73899407e-06],\n",
    "    [6.30755208e-03, 1.38674344e-03, 4.77195490e-01, -8.47109844e-05, -4.88335208e-06, -7.42514862e-04],\n",
    "    [-6.17948348e-05, 1.36432560e-06, -8.47109844e-05, 8.38238661e-08, 8.64531245e-10, 1.39246721e-07],\n",
    "    [1.52990753e-06, -3.08607065e-05, -4.88335208e-06, 8.64531245e-10, 6.63194908e-08, 6.91086677e-09],\n",
    "    [-7.54205899e-05, -5.73899407e-06, -7.42514862e-04, 1.39246721e-07, 6.91086677e-09, 1.17384854e-06]\n",
    "])\n",
    "\n",
    "optimized_state_cov_t1 =np.array([\n",
    "    [9.08676257e+03, -3.54811153e+02,  2.70442096e+04,  1.41601160e+01,-5.49601632e-01,  4.23325181e+01],\n",
    "    [-3.54811153e+02,  1.42081717e+01, -1.05607414e+03, -5.52939725e-01,2.15361271e-02, -1.65307771e+00],\n",
    "    [2.70442096e+04, -1.05607414e+03,  8.04909587e+04,  4.21444581e+01,-1.63579907e+00,  1.25992865e+02],\n",
    "    [1.41601160e+01, -5.52939725e-01,  4.21444581e+01,  2.20665657e-02,-8.56488551e-04,  6.59688826e-02],\n",
    "    [-5.49601632e-01,  2.15361271e-02, -1.63579907e+00, -8.56488551e-04,3.33255783e-05,-2.56051931e-03],\n",
    "    [4.23325181e+01,-1.65307771e+00,  1.25992865e+02, 6.59688826e-02,-2.56051931e-03,  1.97217266e-01]\n",
    "    ])\n",
    "\n",
    "# Extracting standard deviations (sqrt of variances) for x, y, z from each matrix\n",
    "std_devs_optimized = np.sqrt(np.diag(optimized_state_cov)[:3])\n",
    "std_devs_optimized_t1 = np.sqrt(np.diag(optimized_state_cov_t1)[:3])\n",
    "\n",
    "# Differences in standard deviations for x, y, z\n",
    "std_dev_diffs = np.abs(std_devs_optimized_t1 - std_devs_optimized)\n",
    "\n",
    "std_dev_diffs"
   ]
  },
  {
   "cell_type": "code",
   "execution_count": 5,
   "metadata": {},
   "outputs": [
    {
     "data": {
      "text/plain": [
       "298.4627411177755"
      ]
     },
     "execution_count": 5,
     "metadata": {},
     "output_type": "execute_result"
    }
   ],
   "source": [
    "np.linalg.norm(std_dev_diffs)"
   ]
  },
  {
   "cell_type": "code",
   "execution_count": null,
   "metadata": {},
   "outputs": [],
   "source": [
    "# propagating with force model config: {'36x36gravity': True, '3BP': True}\n",
    "# optimized_state_cov_t1:\n",
    "#  [[ 7.56437101e+04 -2.93736250e+03  2.26044084e+05  1.18269620e+02\n",
    "#   -4.58776735e+00  3.53695629e+02]\n",
    "#  [-2.93736250e+03  1.14085510e+02 -8.77761380e+03 -4.59257740e+00\n",
    "#    1.78149060e-01 -1.37345107e+01]\n",
    "#  [ 2.26044084e+05 -8.77761380e+03  6.75483471e+05  3.53422992e+02\n",
    "#   -1.37095500e+01  1.05694194e+03]\n",
    "#  [ 1.18269620e+02 -4.59257740e+00  3.53422992e+02  1.84916163e-01\n",
    "#   -7.17303807e-03  5.53007730e-01]\n",
    "#  [-4.58776735e+00  1.78149060e-01 -1.37095500e+01 -7.17303807e-03\n",
    "#    2.78273173e-04 -2.14515949e-02]\n",
    "#  [ 3.53695629e+02 -1.37345107e+01  1.05694194e+03  5.53007730e-01\n",
    "#   -2.14515949e-02  1.65381738e+00]]\n",
    "\n",
    "# propagating with force model config: {'120x120gravity': True, '3BP': True}\n",
    "# optimized_state_cov_t1:\n",
    "#  [[ 7.56449944e+04 -2.93770951e+03  2.26049282e+05  1.18271871e+02\n",
    "#   -4.58832110e+00  3.53704484e+02]\n",
    "#  [-2.93770951e+03  1.14110524e+02 -8.77870358e+03 -4.59312938e+00\n",
    "#    1.78188586e-01 -1.37362440e+01]\n",
    "#  [ 2.26049282e+05 -8.77870358e+03  6.75503068e+05  3.53431845e+02\n",
    "#   -1.37112872e+01  1.05697476e+03]\n",
    "#  [ 1.18271871e+02 -4.59312938e+00  3.53431845e+02  1.84920062e-01\n",
    "#   -7.17391859e-03  5.53022712e-01]\n",
    "#  [-4.58832110e+00  1.78188586e-01 -1.37112872e+01 -7.17391859e-03\n",
    "#    2.78335621e-04 -2.14543570e-02]\n",
    "#  [ 3.53704484e+02 -1.37362440e+01  1.05697476e+03  5.53022712e-01\n",
    "#   -2.14543570e-02  1.65387212e+00]]\n",
    "\n",
    "#  [[ 7.56450228e+04 -2.93771622e+03  2.26049374e+05  1.18271918e+02\n",
    "#   -4.58833170e+00  3.53704639e+02]\n",
    "#  [-2.93771622e+03  1.14111002e+02 -8.77872393e+03 -4.59314000e+00\n",
    "#    1.78189338e-01 -1.37362762e+01]\n",
    "#  [ 2.26049374e+05 -8.77872393e+03  6.75503368e+05  3.53432000e+02\n",
    "#   -1.37113194e+01  1.05697526e+03]\n",
    "#  [ 1.18271918e+02 -4.59314000e+00  3.53432000e+02  1.84920142e-01\n",
    "#   -7.17393537e-03  5.53022970e-01]\n",
    "#  [-4.58833170e+00  1.78189338e-01 -1.37113194e+01 -7.17393537e-03\n",
    "#    2.78336803e-04 -2.14544079e-02]\n",
    "#  [ 3.53704639e+02 -1.37362762e+01  1.05697526e+03  5.53022970e-01\n",
    "#   -2.14544079e-02  1.65387295e+00]]"
   ]
  },
  {
   "cell_type": "code",
   "execution_count": 1,
   "metadata": {},
   "outputs": [],
   "source": [
    "#2sec interval\n",
    "\n",
    "min_distance: 17753.533644556144\n",
    "min_distance: 17748.595272422397\n",
    "min_distance: 17749.873733658438\n",
    "min_distance: 17402.193736929552\n",
    "min_distance: 16488.51158369356\n",
    "min_distance: 19207.905958113664\n",
    "min_distance: 17753.637106120124\n",
    "min_distance: 17748.698786336077\n",
    "min_distance: 17749.97721737623\n",
    "min_distance: 17402.339943872877\n",
    "min_distance: 16488.627029758867\n",
    "min_distance: 19208.025321425168\n",
    "min_distance: 17752.96860406808\n",
    "min_distance: 17748.03001214832\n",
    "min_distance: 17749.308564751238\n",
    "min_distance: 17401.52618788059\n",
    "min_distance: 16487.849231091903\n",
    "min_distance: 19207.345768899955\n",
    "min_distance: 17406.33101878542\n",
    "min_distance: 17401.10881019468\n",
    "min_distance: 17402.508119363658\n",
    "min_distance: 16896.13762986371\n",
    "min_distance: 15990.84762300666\n",
    "min_distance: 18860.219240717197\n",
    "min_distance: 18157.283476987286\n",
    "min_distance: 18152.44554660584\n",
    "min_distance: 18153.670307555712\n",
    "min_distance: 17868.974497798332\n",
    "min_distance: 16907.09294311087\n",
    "min_distance: 19633.154779729088\n",
    "min_distance: 14868.238785515694\n",
    "min_distance: 14861.916191834707\n",
    "min_distance: 14863.711126478875\n",
    "min_distance: 13967.65827739971\n",
    "min_distance: 12833.937448176413\n",
    "min_distance: 16472.70235403334"
   ]
  },
  {
   "cell_type": "code",
   "execution_count": 2,
   "metadata": {},
   "outputs": [],
   "source": [
    "#1sec interval\n",
    "\n",
    "min_distance: 17750.18650176209\n",
    "min_distance: 17750.24600231277\n",
    "min_distance: 17748.91068511618\n",
    "min_distance: 22671.515016749574\n",
    "min_distance: 10414.446960133075\n",
    "min_distance: 26361.000223961357\n",
    "min_distance: 17749.884234458106\n",
    "min_distance: 17749.94370878508\n",
    "min_distance: 17748.60836979892\n",
    "min_distance: 22671.28228103565\n",
    "min_distance: 10414.2166999221\n",
    "min_distance: 26360.739233243145\n",
    "min_distance: 17751.269437008497\n",
    "min_distance: 17751.329002167393\n",
    "min_distance: 17749.993772530823\n",
    "min_distance: 22672.31864290804\n",
    "min_distance: 10415.23273286427\n",
    "min_distance: 26361.915456749946\n",
    "min_distance: 16931.273237445766\n",
    "min_distance: 16931.32678746984\n",
    "min_distance: 16930.006830055976\n",
    "min_distance: 21885.90910612935\n",
    "min_distance: 9634.091068863492\n",
    "min_distance: 25548.220254416006\n",
    "min_distance: 18240.414024934245\n",
    "min_distance: 18240.421207588784\n",
    "min_distance: 18239.06886977429\n",
    "min_distance: 23148.51096940676\n",
    "min_distance: 10887.507573075212\n",
    "min_distance: 26850.595133212744\n",
    "min_distance: 20279.231567950836\n",
    "min_distance: 20279.503241105656\n",
    "min_distance: 20278.474124435746\n",
    "min_distance: 24315.31035072521\n",
    "min_distance: 12160.836491076794\n",
    "min_distance: 28317.61966123994"
   ]
  },
  {
   "cell_type": "code",
   "execution_count": 3,
   "metadata": {},
   "outputs": [],
   "source": [
    "#prim vs sec (1sec interval)\n",
    "\n",
    "min_distance: 17746.75502766648\n",
    "min_distance: 17747.296219390413\n",
    "min_distance: 18581.970282430186\n",
    "min_distance: 19818.686055024722\n",
    "min_distance: 24643.91949838991\n",
    "min_distance: 17751.01733976413\n",
    "min_distance: 17747.584763920146\n",
    "min_distance: 17748.126019935964\n",
    "min_distance: 18582.64168856715\n",
    "min_distance: 19819.2169032235\n",
    "min_distance: 24644.6224747697\n",
    "min_distance: 17749.5901809086\n",
    "min_distance: 17746.157064483068\n",
    "min_distance: 17746.698218668935\n",
    "min_distance: 18581.494836953592\n",
    "min_distance: 19818.328695935536\n",
    "min_distance: 24643.415000222543\n",
    "min_distance: 18361.57009166997\n",
    "min_distance: 18358.16125180622\n",
    "min_distance: 18358.66224164206\n",
    "min_distance: 19180.436881803467\n",
    "min_distance: 20355.04021768374\n",
    "min_distance: 25259.821642710587\n",
    "min_distance: 16052.22693481558\n",
    "min_distance: 16047.895048250884\n",
    "min_distance: 16048.215047414613\n",
    "min_distance: 17349.622587253743\n",
    "min_distance: 18955.241116952024\n",
    "min_distance: 23288.976350572862\n",
    "min_distance: 19995.304109098663\n",
    "min_distance: 19991.574694120158\n",
    "min_distance: 19992.04979303209\n",
    "min_distance: 20923.605376796575\n",
    "min_distance: 22167.557614567904\n",
    "min_distance: 26968.46642644521"
   ]
  },
  {
   "cell_type": "code",
   "execution_count": null,
   "metadata": {},
   "outputs": [],
   "source": [
    "#prim vs prim (1sec interval)\n"
   ]
  }
 ],
 "metadata": {
  "kernelspec": {
   "display_name": "erp_tools_env",
   "language": "python",
   "name": "python3"
  },
  "language_info": {
   "codemirror_mode": {
    "name": "ipython",
    "version": 3
   },
   "file_extension": ".py",
   "mimetype": "text/x-python",
   "name": "python",
   "nbconvert_exporter": "python",
   "pygments_lexer": "ipython3",
   "version": "3.11.6"
  }
 },
 "nbformat": 4,
 "nbformat_minor": 2
}
