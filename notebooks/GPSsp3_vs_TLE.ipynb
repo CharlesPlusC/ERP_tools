{
 "cells": [
  {
   "cell_type": "code",
   "execution_count": 3,
   "metadata": {},
   "outputs": [
    {
     "ename": "ValueError",
     "evalue": "Format 'min' is not one of the allowed formats ['datetime', 'jd', 'sec']",
     "output_type": "error",
     "traceback": [
      "\u001b[0;31m---------------------------------------------------------------------------\u001b[0m",
      "\u001b[0;31mValueError\u001b[0m                                Traceback (most recent call last)",
      "Cell \u001b[0;32mIn[3], line 32\u001b[0m\n\u001b[1;32m     29\u001b[0m         \u001b[38;5;28mprint\u001b[39m(\u001b[38;5;124mf\u001b[39m\u001b[38;5;124m\"\u001b[39m\u001b[38;5;124mTime: \u001b[39m\u001b[38;5;132;01m{\u001b[39;00mpos\u001b[38;5;241m.\u001b[39mobstime\u001b[38;5;241m.\u001b[39mutc\u001b[38;5;241m.\u001b[39miso\u001b[38;5;132;01m}\u001b[39;00m\u001b[38;5;124m, X: \u001b[39m\u001b[38;5;132;01m{\u001b[39;00mpos\u001b[38;5;241m.\u001b[39mx\u001b[38;5;241m.\u001b[39mvalue\u001b[38;5;132;01m}\u001b[39;00m\u001b[38;5;124m m, Y: \u001b[39m\u001b[38;5;132;01m{\u001b[39;00mpos\u001b[38;5;241m.\u001b[39my\u001b[38;5;241m.\u001b[39mvalue\u001b[38;5;132;01m}\u001b[39;00m\u001b[38;5;124m m, Z: \u001b[39m\u001b[38;5;132;01m{\u001b[39;00mpos\u001b[38;5;241m.\u001b[39mz\u001b[38;5;241m.\u001b[39mvalue\u001b[38;5;132;01m}\u001b[39;00m\u001b[38;5;124m m\u001b[39m\u001b[38;5;124m\"\u001b[39m)\n\u001b[1;32m     31\u001b[0m \u001b[38;5;66;03m# Example usage\u001b[39;00m\n\u001b[0;32m---> 32\u001b[0m \u001b[43mdownload_and_interpolate_sp3\u001b[49m\u001b[43m(\u001b[49m\u001b[38;5;124;43m\"\u001b[39;49m\u001b[38;5;124;43m41328\u001b[39;49m\u001b[38;5;124;43m\"\u001b[39;49m\u001b[43m,\u001b[49m\u001b[43m \u001b[49m\u001b[38;5;124;43m\"\u001b[39;49m\u001b[38;5;124;43m2023-01-01T00:00:00\u001b[39;49m\u001b[38;5;124;43m\"\u001b[39;49m\u001b[43m,\u001b[49m\u001b[43m \u001b[49m\u001b[38;5;124;43m\"\u001b[39;49m\u001b[38;5;124;43m2023-01-02T00:00:00\u001b[39;49m\u001b[38;5;124;43m\"\u001b[39;49m\u001b[43m,\u001b[49m\u001b[43m \u001b[49m\u001b[38;5;124;43m\"\u001b[39;49m\u001b[38;5;124;43msp3_download\u001b[39;49m\u001b[38;5;124;43m\"\u001b[39;49m\u001b[43m)\u001b[49m\n",
      "Cell \u001b[0;32mIn[3], line 15\u001b[0m, in \u001b[0;36mdownload_and_interpolate_sp3\u001b[0;34m(sp3_id, start_date, end_date, download_dir)\u001b[0m\n\u001b[1;32m     13\u001b[0m start \u001b[38;5;241m=\u001b[39m astropy\u001b[38;5;241m.\u001b[39mtime\u001b[38;5;241m.\u001b[39mTime(start_date)\n\u001b[1;32m     14\u001b[0m end \u001b[38;5;241m=\u001b[39m astropy\u001b[38;5;241m.\u001b[39mtime\u001b[38;5;241m.\u001b[39mTime(end_date)\n\u001b[0;32m---> 15\u001b[0m delta_minutes \u001b[38;5;241m=\u001b[39m \u001b[43mastropy\u001b[49m\u001b[38;5;241;43m.\u001b[39;49m\u001b[43mtime\u001b[49m\u001b[38;5;241;43m.\u001b[39;49m\u001b[43mTimeDelta\u001b[49m\u001b[43m(\u001b[49m\u001b[38;5;241;43m1\u001b[39;49m\u001b[43m,\u001b[49m\u001b[43m \u001b[49m\u001b[38;5;28;43mformat\u001b[39;49m\u001b[38;5;241;43m=\u001b[39;49m\u001b[38;5;124;43m'\u001b[39;49m\u001b[38;5;124;43mmin\u001b[39;49m\u001b[38;5;124;43m'\u001b[39;49m\u001b[43m)\u001b[49m\n\u001b[1;32m     16\u001b[0m obstime \u001b[38;5;241m=\u001b[39m start \u001b[38;5;241m+\u001b[39m delta_minutes \u001b[38;5;241m*\u001b[39m \u001b[38;5;28mrange\u001b[39m(\u001b[38;5;28mint\u001b[39m((end \u001b[38;5;241m-\u001b[39m start)\u001b[38;5;241m.\u001b[39mjd \u001b[38;5;241m*\u001b[39m \u001b[38;5;241m24\u001b[39m \u001b[38;5;241m*\u001b[39m \u001b[38;5;241m60\u001b[39m))  \u001b[38;5;66;03m# Convert delta to minutes\u001b[39;00m\n\u001b[1;32m     18\u001b[0m \u001b[38;5;66;03m# Download and interpolate SP3 data to get ITRS positions\u001b[39;00m\n",
      "File \u001b[0;32m~/anaconda3/envs/erp_tools_env/lib/python3.11/site-packages/astropy/time/core.py:2799\u001b[0m, in \u001b[0;36mTimeDelta.__init__\u001b[0;34m(self, val, val2, format, scale, copy)\u001b[0m\n\u001b[1;32m   2797\u001b[0m \u001b[38;5;28;01melse\u001b[39;00m:\n\u001b[1;32m   2798\u001b[0m     \u001b[38;5;28mformat\u001b[39m \u001b[38;5;241m=\u001b[39m \u001b[38;5;28mformat\u001b[39m \u001b[38;5;129;01mor\u001b[39;00m \u001b[38;5;28mself\u001b[39m\u001b[38;5;241m.\u001b[39m_get_format(val)\n\u001b[0;32m-> 2799\u001b[0m     \u001b[38;5;28;43mself\u001b[39;49m\u001b[38;5;241;43m.\u001b[39;49m\u001b[43m_init_from_vals\u001b[49m\u001b[43m(\u001b[49m\u001b[43mval\u001b[49m\u001b[43m,\u001b[49m\u001b[43m \u001b[49m\u001b[43mval2\u001b[49m\u001b[43m,\u001b[49m\u001b[43m \u001b[49m\u001b[38;5;28;43mformat\u001b[39;49m\u001b[43m,\u001b[49m\u001b[43m \u001b[49m\u001b[43mscale\u001b[49m\u001b[43m,\u001b[49m\u001b[43m \u001b[49m\u001b[43mcopy\u001b[49m\u001b[43m)\u001b[49m\n\u001b[1;32m   2801\u001b[0m     \u001b[38;5;28;01mif\u001b[39;00m scale \u001b[38;5;129;01mis\u001b[39;00m \u001b[38;5;129;01mnot\u001b[39;00m \u001b[38;5;28;01mNone\u001b[39;00m:\n\u001b[1;32m   2802\u001b[0m         \u001b[38;5;28mself\u001b[39m\u001b[38;5;241m.\u001b[39mSCALES \u001b[38;5;241m=\u001b[39m TIME_DELTA_TYPES[scale]\n",
      "File \u001b[0;32m~/anaconda3/envs/erp_tools_env/lib/python3.11/site-packages/astropy/time/core.py:535\u001b[0m, in \u001b[0;36mTimeBase._init_from_vals\u001b[0;34m(self, val, val2, format, scale, copy, precision, in_subfmt, out_subfmt)\u001b[0m\n\u001b[1;32m    532\u001b[0m mask, val, val2 \u001b[38;5;241m=\u001b[39m _check_for_masked_and_fill(val, val2)\n\u001b[1;32m    534\u001b[0m \u001b[38;5;66;03m# Parse / convert input values into internal jd1, jd2 based on format\u001b[39;00m\n\u001b[0;32m--> 535\u001b[0m \u001b[38;5;28mself\u001b[39m\u001b[38;5;241m.\u001b[39m_time \u001b[38;5;241m=\u001b[39m \u001b[38;5;28;43mself\u001b[39;49m\u001b[38;5;241;43m.\u001b[39;49m\u001b[43m_get_time_fmt\u001b[49m\u001b[43m(\u001b[49m\n\u001b[1;32m    536\u001b[0m \u001b[43m    \u001b[49m\u001b[43mval\u001b[49m\u001b[43m,\u001b[49m\u001b[43m \u001b[49m\u001b[43mval2\u001b[49m\u001b[43m,\u001b[49m\u001b[43m \u001b[49m\u001b[38;5;28;43mformat\u001b[39;49m\u001b[43m,\u001b[49m\u001b[43m \u001b[49m\u001b[43mscale\u001b[49m\u001b[43m,\u001b[49m\u001b[43m \u001b[49m\u001b[43mprecision\u001b[49m\u001b[43m,\u001b[49m\u001b[43m \u001b[49m\u001b[43min_subfmt\u001b[49m\u001b[43m,\u001b[49m\u001b[43m \u001b[49m\u001b[43mout_subfmt\u001b[49m\n\u001b[1;32m    537\u001b[0m \u001b[43m\u001b[49m\u001b[43m)\u001b[49m\n\u001b[1;32m    538\u001b[0m \u001b[38;5;28mself\u001b[39m\u001b[38;5;241m.\u001b[39m_format \u001b[38;5;241m=\u001b[39m \u001b[38;5;28mself\u001b[39m\u001b[38;5;241m.\u001b[39m_time\u001b[38;5;241m.\u001b[39mname\n\u001b[1;32m    540\u001b[0m \u001b[38;5;66;03m# Hack from #9969 to allow passing the location value that has been\u001b[39;00m\n\u001b[1;32m    541\u001b[0m \u001b[38;5;66;03m# collected by the TimeAstropyTime format class up to the Time level.\u001b[39;00m\n\u001b[1;32m    542\u001b[0m \u001b[38;5;66;03m# TODO: find a nicer way.\u001b[39;00m\n",
      "File \u001b[0;32m~/anaconda3/envs/erp_tools_env/lib/python3.11/site-packages/astropy/time/core.py:586\u001b[0m, in \u001b[0;36mTimeBase._get_time_fmt\u001b[0;34m(self, val, val2, format, scale, precision, in_subfmt, out_subfmt)\u001b[0m\n\u001b[1;32m    582\u001b[0m         \u001b[38;5;28;01mraise\u001b[39;00m \u001b[38;5;167;01mValueError\u001b[39;00m(\n\u001b[1;32m    583\u001b[0m             \u001b[38;5;124m\"\u001b[39m\u001b[38;5;124mNo time format was given, and the input is not unique\u001b[39m\u001b[38;5;124m\"\u001b[39m\n\u001b[1;32m    584\u001b[0m         )\n\u001b[1;32m    585\u001b[0m     \u001b[38;5;28;01melse\u001b[39;00m:\n\u001b[0;32m--> 586\u001b[0m         \u001b[38;5;28;01mraise\u001b[39;00m \u001b[38;5;167;01mValueError\u001b[39;00m(\n\u001b[1;32m    587\u001b[0m             \u001b[38;5;124mf\u001b[39m\u001b[38;5;124m\"\u001b[39m\u001b[38;5;124mFormat \u001b[39m\u001b[38;5;132;01m{\u001b[39;00m\u001b[38;5;28mformat\u001b[39m\u001b[38;5;132;01m!r}\u001b[39;00m\u001b[38;5;124m is not one of the allowed formats \u001b[39m\u001b[38;5;124m\"\u001b[39m\n\u001b[1;32m    588\u001b[0m             \u001b[38;5;124mf\u001b[39m\u001b[38;5;124m\"\u001b[39m\u001b[38;5;132;01m{\u001b[39;00m\u001b[38;5;28msorted\u001b[39m(\u001b[38;5;28mself\u001b[39m\u001b[38;5;241m.\u001b[39mFORMATS)\u001b[38;5;132;01m}\u001b[39;00m\u001b[38;5;124m\"\u001b[39m\n\u001b[1;32m    589\u001b[0m         )\n\u001b[1;32m    590\u001b[0m \u001b[38;5;28;01melse\u001b[39;00m:\n\u001b[1;32m    591\u001b[0m     formats \u001b[38;5;241m=\u001b[39m [(\u001b[38;5;28mformat\u001b[39m, \u001b[38;5;28mself\u001b[39m\u001b[38;5;241m.\u001b[39mFORMATS[\u001b[38;5;28mformat\u001b[39m])]\n",
      "\u001b[0;31mValueError\u001b[0m: Format 'min' is not one of the allowed formats ['datetime', 'jd', 'sec']"
     ]
    }
   ],
   "source": [
    "import astropy.time\n",
    "import sp3\n",
    "import typing\n",
    "import pathlib\n",
    "\n",
    "# Ensure `sp3` is installed: python3 -m pip install sp3\n",
    "\n",
    "def download_and_interpolate_sp3(sp3_id: str, start_date: str, end_date: str, download_dir: typing.Union[str, bytes, pathlib.Path]):\n",
    "    # Define the SP3 ID and the time range\n",
    "    satellite_id = sp3.NoradId(sp3_id)\n",
    "    \n",
    "    # Generate time range spaced one minute apart\n",
    "    start = astropy.time.Time(start_date)\n",
    "    end = astropy.time.Time(end_date)\n",
    "    delta_minutes = astropy.time.TimeDelta(1, format='min')\n",
    "    obstime = start + delta_minutes * range(int((end - start).jd * 24 * 60))  # Convert delta to minutes\n",
    "\n",
    "    # Download and interpolate SP3 data to get ITRS positions\n",
    "    itrs_positions = sp3.itrs(\n",
    "        id=satellite_id,\n",
    "        obstime=obstime,\n",
    "        download_directory=download_dir,\n",
    "        window=5,  # Default window size for interpolation\n",
    "        degree=10  # Default polynomial degree for interpolation\n",
    "    )\n",
    "\n",
    "    # Extract and print X, Y, Z coordinates in ITRS (ECEF) frame for each minute\n",
    "    for pos in itrs_positions:\n",
    "        print(f\"Time: {pos.obstime.utc.iso}, X: {pos.x.value} m, Y: {pos.y.value} m, Z: {pos.z.value} m\")\n",
    "\n",
    "# Example usage\n",
    "download_and_interpolate_sp3(\"41328\", \"2023-01-01T00:00:00\", \"2023-01-02T00:00:00\", \"sp3_download\")\n"
   ]
  },
  {
   "cell_type": "code",
   "execution_count": null,
   "metadata": {},
   "outputs": [],
   "source": []
  }
 ],
 "metadata": {
  "kernelspec": {
   "display_name": "erp_tools_env",
   "language": "python",
   "name": "python3"
  },
  "language_info": {
   "codemirror_mode": {
    "name": "ipython",
    "version": 3
   },
   "file_extension": ".py",
   "mimetype": "text/x-python",
   "name": "python",
   "nbconvert_exporter": "python",
   "pygments_lexer": "ipython3",
   "version": "3.11.6"
  }
 },
 "nbformat": 4,
 "nbformat_minor": 2
}
