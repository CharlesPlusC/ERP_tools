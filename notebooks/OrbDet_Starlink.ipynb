{
 "cells": [
  {
   "cell_type": "code",
   "execution_count": 1,
   "metadata": {},
   "outputs": [],
   "source": [
    "import os\n",
    "#go back one directory\n",
    "os.chdir(\"..\")\n",
    "# now go into source directory\n",
    "os.chdir(\"source\")\n"
   ]
  },
  {
   "cell_type": "code",
   "execution_count": null,
   "metadata": {},
   "outputs": [],
   "source": [
    "from tools.spaceX_ephem_tools import spacex_ephem_to_dataframe, parse_spacex_datetime_stamps, read_spacex_ephemeris, spacex_ephem_to_dataframe\n",
    "from tools.utilities import yyyy_mm_dd_hh_mm_ss_to_jd"
   ]
  },
  {
   "cell_type": "code",
   "execution_count": null,
   "metadata": {},
   "outputs": [],
   "source": [
    "# read starlink ephem\n",
    "# plot altitude time series\n",
    "# write covariance getter function\n",
    "# animated covariance plot\n",
    "# read positions and velocities into orekit.measurement "
   ]
  },
  {
   "cell_type": "code",
   "execution_count": 4,
   "metadata": {},
   "outputs": [],
   "source": [
    "_start,  = read_spacex_ephemeris(\"/Users/charlesc/Documents/GitHub/ERP_tools/external/ephems/starlink/MEME_57632_STARLINK-30309_3530645_Operational_1387262760_UNCLASSIFIED.txt\")"
   ]
  },
  {
   "cell_type": "code",
   "execution_count": 6,
   "metadata": {},
   "outputs": [],
   "source": [
    "spacex_eph_df = spacex_ephem_to_dataframe(\"/Users/charlesc/Documents/GitHub/ERP_tools/external/ephems/starlink/MEME_57632_STARLINK-30309_3530645_Operational_1387262760_UNCLASSIFIED.txt\")"
   ]
  },
  {
   "cell_type": "code",
   "execution_count": 7,
   "metadata": {},
   "outputs": [
    {
     "data": {
      "text/html": [
       "<div>\n",
       "<style scoped>\n",
       "    .dataframe tbody tr th:only-of-type {\n",
       "        vertical-align: middle;\n",
       "    }\n",
       "\n",
       "    .dataframe tbody tr th {\n",
       "        vertical-align: top;\n",
       "    }\n",
       "\n",
       "    .dataframe thead th {\n",
       "        text-align: right;\n",
       "    }\n",
       "</style>\n",
       "<table border=\"1\" class=\"dataframe\">\n",
       "  <thead>\n",
       "    <tr style=\"text-align: right;\">\n",
       "      <th></th>\n",
       "      <th>jd_time</th>\n",
       "      <th>x</th>\n",
       "      <th>y</th>\n",
       "      <th>z</th>\n",
       "      <th>u</th>\n",
       "      <th>v</th>\n",
       "      <th>w</th>\n",
       "    </tr>\n",
       "  </thead>\n",
       "  <tbody>\n",
       "    <tr>\n",
       "      <th>0</th>\n",
       "      <td>2.460298e+06</td>\n",
       "      <td>3163.377902</td>\n",
       "      <td>4612.858121</td>\n",
       "      <td>-4107.476805</td>\n",
       "      <td>-6.736341</td>\n",
       "      <td>2.336685</td>\n",
       "      <td>-2.565039</td>\n",
       "    </tr>\n",
       "    <tr>\n",
       "      <th>1</th>\n",
       "      <td>2.460298e+06</td>\n",
       "      <td>2752.704348</td>\n",
       "      <td>4743.069814</td>\n",
       "      <td>-4252.438989</td>\n",
       "      <td>-6.947869</td>\n",
       "      <td>2.002163</td>\n",
       "      <td>-2.265308</td>\n",
       "    </tr>\n",
       "    <tr>\n",
       "      <th>2</th>\n",
       "      <td>2.460298e+06</td>\n",
       "      <td>2330.230006</td>\n",
       "      <td>4852.947224</td>\n",
       "      <td>-4379.120144</td>\n",
       "      <td>-7.129576</td>\n",
       "      <td>1.659119</td>\n",
       "      <td>-1.955894</td>\n",
       "    </tr>\n",
       "    <tr>\n",
       "      <th>3</th>\n",
       "      <td>2.460298e+06</td>\n",
       "      <td>1897.767239</td>\n",
       "      <td>4942.022916</td>\n",
       "      <td>-4486.979068</td>\n",
       "      <td>-7.280695</td>\n",
       "      <td>1.309018</td>\n",
       "      <td>-1.638123</td>\n",
       "    </tr>\n",
       "    <tr>\n",
       "      <th>4</th>\n",
       "      <td>2.460298e+06</td>\n",
       "      <td>1457.171089</td>\n",
       "      <td>5009.918162</td>\n",
       "      <td>-4575.554948</td>\n",
       "      <td>-7.400593</td>\n",
       "      <td>0.953355</td>\n",
       "      <td>-1.313355</td>\n",
       "    </tr>\n",
       "  </tbody>\n",
       "</table>\n",
       "</div>"
      ],
      "text/plain": [
       "        jd_time            x            y            z         u         v  \\\n",
       "0  2.460298e+06  3163.377902  4612.858121 -4107.476805 -6.736341  2.336685   \n",
       "1  2.460298e+06  2752.704348  4743.069814 -4252.438989 -6.947869  2.002163   \n",
       "2  2.460298e+06  2330.230006  4852.947224 -4379.120144 -7.129576  1.659119   \n",
       "3  2.460298e+06  1897.767239  4942.022916 -4486.979068 -7.280695  1.309018   \n",
       "4  2.460298e+06  1457.171089  5009.918162 -4575.554948 -7.400593  0.953355   \n",
       "\n",
       "          w  \n",
       "0 -2.565039  \n",
       "1 -2.265308  \n",
       "2 -1.955894  \n",
       "3 -1.638123  \n",
       "4 -1.313355  "
      ]
     },
     "execution_count": 7,
     "metadata": {},
     "output_type": "execute_result"
    }
   ],
   "source": [
    "spacex_eph_df.head()"
   ]
  },
  {
   "cell_type": "code",
   "execution_count": 8,
   "metadata": {},
   "outputs": [],
   "source": [
    "import pandas as pd"
   ]
  },
  {
   "cell_type": "code",
   "execution_count": 13,
   "metadata": {},
   "outputs": [],
   "source": [
    "def spacex_ephem_to_df_w_cov(ephem_path: str) -> pd.DataFrame:\n",
    "    \"\"\"\n",
    "    Convert SpaceX ephemeris data, including covariance terms, into a pandas DataFrame.\n",
    "\n",
    "    Parameters\n",
    "    ----------\n",
    "    ephem_path : str\n",
    "        Path to the ephemeris file.\n",
    "\n",
    "    Returns\n",
    "    -------\n",
    "    pd.DataFrame\n",
    "        DataFrame containing parsed SpaceX ephemeris data, including covariance terms.\n",
    "    \"\"\"\n",
    "    with open(ephem_path) as f:\n",
    "        lines = f.readlines()\n",
    "\n",
    "    # Remove header lines and select every 4th line starting from the first data line\n",
    "    t_xyz_uvw = lines[4::4]\n",
    "\n",
    "    # Extract t, x, y, z, u, v, w\n",
    "    t = [float(i.split()[0]) for i in t_xyz_uvw]\n",
    "    x = [float(i.split()[1]) for i in t_xyz_uvw]\n",
    "    y = [float(i.split()[2]) for i in t_xyz_uvw]\n",
    "    z = [float(i.split()[3]) for i in t_xyz_uvw]\n",
    "    u = [float(i.split()[4]) for i in t_xyz_uvw]\n",
    "    v = [float(i.split()[5]) for i in t_xyz_uvw]\n",
    "    w = [float(i.split()[6]) for i in t_xyz_uvw]\n",
    "\n",
    "    # Extract the 21 covariance terms (3 lines after each primary data line)\n",
    "    covariance_data = {f'cov_{i+1}': [] for i in range(21)}\n",
    "    for i in range(5, len(lines), 4):  # Start from the first covariance line\n",
    "        cov_lines = lines[i:i+3]  # Get the three lines of covariance terms\n",
    "        cov_values = ' '.join(cov_lines).split()\n",
    "        for j, value in enumerate(cov_values):\n",
    "            covariance_data[f'cov_{j+1}'].append(float(value))\n",
    "\n",
    "    # Construct the DataFrame\n",
    "    spacex_ephem_df = pd.DataFrame({\n",
    "        't': t, 'x': x, 'y': y, 'z': z, 'u': u, 'v': v, 'w': w,\n",
    "        **covariance_data\n",
    "    })\n",
    "\n",
    "    return spacex_ephem_df\n"
   ]
  },
  {
   "cell_type": "code",
   "execution_count": 14,
   "metadata": {},
   "outputs": [],
   "source": [
    "spacex_ephem_dfwcov = spacex_ephem_to_df_w_cov(\"/Users/charlesc/Documents/GitHub/ERP_tools/external/ephems/starlink/MEME_57632_STARLINK-30309_3530645_Operational_1387262760_UNCLASSIFIED.txt\")"
   ]
  },
  {
   "cell_type": "code",
   "execution_count": 15,
   "metadata": {},
   "outputs": [
    {
     "data": {
      "text/plain": [
       "Index(['t', 'x', 'y', 'z', 'u', 'v', 'w', 'cov_1', 'cov_2', 'cov_3', 'cov_4',\n",
       "       'cov_5', 'cov_6', 'cov_7', 'cov_8', 'cov_9', 'cov_10', 'cov_11',\n",
       "       'cov_12', 'cov_13', 'cov_14', 'cov_15', 'cov_16', 'cov_17', 'cov_18',\n",
       "       'cov_19', 'cov_20', 'cov_21'],\n",
       "      dtype='object')"
      ]
     },
     "execution_count": 15,
     "metadata": {},
     "output_type": "execute_result"
    }
   ],
   "source": [
    "spacex_ephem_dfwcov.columns"
   ]
  },
  {
   "cell_type": "code",
   "execution_count": 36,
   "metadata": {},
   "outputs": [],
   "source": [
    "import pandas as pd\n",
    "import numpy as np\n",
    "import seaborn as sns\n",
    "import matplotlib.pyplot as plt\n",
    "import os\n",
    "from matplotlib.colors import SymLogNorm\n",
    "\n",
    "# Create the output directory if it doesn't exist\n",
    "output_dir = \"output/covariance_heatmaps/starlink\"\n",
    "os.makedirs(output_dir, exist_ok=True)\n",
    "\n",
    "# Function to create a symmetric correlation matrix from lower triangular covariance elements\n",
    "def create_symmetric_corr_matrix(lower_triangular_data):\n",
    "    # Create the symmetric covariance matrix\n",
    "    cov_matrix = np.zeros((6, 6))\n",
    "    row, col = np.tril_indices(6)\n",
    "    cov_matrix[row, col] = lower_triangular_data\n",
    "    cov_matrix = cov_matrix + cov_matrix.T - np.diag(cov_matrix.diagonal())\n",
    "\n",
    "    # Convert to correlation matrix\n",
    "    std_dev = np.sqrt(np.diag(cov_matrix))\n",
    "    corr_matrix = np.divide(cov_matrix, std_dev[:, None])\n",
    "    corr_matrix = np.divide(corr_matrix, std_dev[None, :])\n",
    "    np.fill_diagonal(corr_matrix, 1)  # Fill diagonal with 1s for self-correlation\n",
    "    return corr_matrix\n",
    "\n",
    "# Axis labels\n",
    "axis_labels = ['x', 'y', 'z', 'u', 'v', 'w']\n",
    "# Assuming spacex_ephem_dfwcov is your DataFrame and it contains columns 'cov_1' to 'cov_21'\n",
    "all_cov_data = spacex_ephem_dfwcov.loc[:, 'cov_1':'cov_21'].values\n",
    "\n",
    "# Iterate through the first 300 items\n",
    "filenames = []\n",
    "for i in range(min(300, len(spacex_ephem_dfwcov))):\n",
    "    # Create the symmetric correlation matrix\n",
    "    corr_matrix = create_symmetric_corr_matrix(all_cov_data[i, :])\n",
    "\n",
    "    # Create a heatmap\n",
    "    plt.figure(figsize=(10, 8))\n",
    "    ax = sns.heatmap(corr_matrix, annot=True, cmap='viridis', xticklabels=axis_labels, yticklabels=axis_labels, vmin=-1, vmax=1)\n",
    "    plt.title(f'Starlink-57632 Correlation: {(spacex_ephem_dfwcov.loc[i, \"t\"])}')\n",
    "\n",
    "    # Save the heatmap to a file\n",
    "    filename = f'{output_dir}/spacex_corr_hm{i}.png'\n",
    "    plt.savefig(filename, dpi=120)\n",
    "    filenames.append(filename)\n",
    "    plt.close()\n",
    "\n",
    "# Now you can use the filenames list to create a GIF as previously described\n"
   ]
  },
  {
   "cell_type": "code",
   "execution_count": 37,
   "metadata": {},
   "outputs": [
    {
     "name": "stderr",
     "output_type": "stream",
     "text": [
      "/var/folders/nh/9y501_nj2x56h2t3ch9_05f40000gn/T/ipykernel_57334/4269234183.py:4: DeprecationWarning: Starting with ImageIO v3 the behavior of this function will switch to that of iio.v3.imread. To keep the current behavior (and make this warning disappear) use `import imageio.v2 as imageio` or call `imageio.v2.imread` directly.\n",
      "  images = [imageio.imread(filename) for filename in filenames]\n"
     ]
    }
   ],
   "source": [
    "import imageio\n",
    "\n",
    "def create_animation(filenames, animation_path):\n",
    "    images = [imageio.imread(filename) for filename in filenames]\n",
    "    imageio.mimsave(animation_path, images, duration=0.5)\n",
    "\n",
    "# Path for the output GIF\n",
    "animation_path = \"output/covariance_heatmaps/starlink/spacex_corr_heatmaps.gif\"\n",
    "\n",
    "# Create the animation\n",
    "create_animation(filenames, animation_path)"
   ]
  },
  {
   "cell_type": "code",
   "execution_count": null,
   "metadata": {},
   "outputs": [],
   "source": []
  }
 ],
 "metadata": {
  "kernelspec": {
   "display_name": "erp_tools_env",
   "language": "python",
   "name": "python3"
  },
  "language_info": {
   "codemirror_mode": {
    "name": "ipython",
    "version": 3
   },
   "file_extension": ".py",
   "mimetype": "text/x-python",
   "name": "python",
   "nbconvert_exporter": "python",
   "pygments_lexer": "ipython3",
   "version": "3.11.6"
  }
 },
 "nbformat": 4,
 "nbformat_minor": 2
}
